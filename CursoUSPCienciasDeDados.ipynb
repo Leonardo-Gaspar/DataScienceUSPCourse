{
  "nbformat": 4,
  "nbformat_minor": 0,
  "metadata": {
    "colab": {
      "provenance": [],
      "authorship_tag": "ABX9TyMUIz/aVZ3/5d6h4ykbWBm3",
      "include_colab_link": true
    },
    "kernelspec": {
      "name": "python3",
      "display_name": "Python 3"
    },
    "language_info": {
      "name": "python"
    }
  },
  "cells": [
    {
      "cell_type": "markdown",
      "metadata": {
        "id": "view-in-github",
        "colab_type": "text"
      },
      "source": [
        "<a href=\"https://colab.research.google.com/github/Leonardo-Gaspar/DataScienceUSPCourse/blob/main/CursoUSPCienciasDeDados.ipynb\" target=\"_parent\"><img src=\"https://colab.research.google.com/assets/colab-badge.svg\" alt=\"Open In Colab\"/></a>"
      ]
    },
    {
      "cell_type": "markdown",
      "source": [
        "Exercício 1: Desenvolva um programa que selecione um número aleatório entre 0 e 100. O usuário deverá tentar adivinhar esse número. Ao final, o programa exibirá as tentativas do usuário e a quantidade de tentativas feitas."
      ],
      "metadata": {
        "id": "K8ol363aWo9q"
      }
    },
    {
      "cell_type": "code",
      "execution_count": 21,
      "metadata": {
        "id": "Hj8Uc-0Eg7tm",
        "colab": {
          "base_uri": "https://localhost:8080/"
        },
        "outputId": "5e642cbe-dc86-49da-84d1-f69ee03f915a"
      },
      "outputs": [
        {
          "output_type": "stream",
          "name": "stdout",
          "text": [
            "53\n"
          ]
        }
      ],
      "source": [
        "import random\n",
        "\n",
        "numeroGerado: int = random.randint(0, 100)\n",
        "\n",
        "print(numeroGerado)"
      ]
    },
    {
      "cell_type": "code",
      "source": [
        "numeroUsuario: int\n",
        "\n",
        "Palpites = []\n",
        "\n",
        "while (True):\n",
        "    numeroUsuario = int(input(\"Digite um número: \")) # Pegar o numero\n",
        "    Palpites.append(numeroUsuario) #Adicionar nos palpites\n",
        "\n",
        "    if (numeroUsuario == numeroGerado): #Verificando se os numeros sao iguais\n",
        "        print(\"Você acertou\")\n",
        "        break\n",
        "    elif (numeroUsuario > numeroGerado):  #Dando dicas para o usuario\n",
        "        print(\"Você errou, tente um numero menor\")\n",
        "    elif (numeroUsuario < numeroGerado):\n",
        "        print(\"Você errou, tente um numero maior\")\n",
        "    else:\n",
        "        print(\"Numero invalido\")\n",
        "        continue\n",
        "\n",
        "for i in range(0, len(Palpites)):\n",
        "    print(Palpites[i], end = \" \")\n",
        "\n",
        "print(f\"\\nVocê tentou {len(Palpites)} vezes\")"
      ],
      "metadata": {
        "colab": {
          "base_uri": "https://localhost:8080/"
        },
        "id": "EexBwQwXW2jP",
        "outputId": "aebdaf34-c3fe-4eb4-e62b-95c0e51689eb"
      },
      "execution_count": 25,
      "outputs": [
        {
          "output_type": "stream",
          "name": "stdout",
          "text": [
            "Digite um número: 25\n",
            "Você errou, tente um numero maior\n",
            "Digite um número: 50\n",
            "Você errou, tente um numero maior\n",
            "Digite um número: 75\n",
            "Você errou, tente um numero menor\n",
            "Digite um número: 53\n",
            "Você acertou\n",
            "25 50 75 53 \n",
            "Você tentou 4 vezes\n"
          ]
        }
      ]
    },
    {
      "cell_type": "markdown",
      "source": [
        "Exercício 2: Você esta organizando uma lista de alunos por turma em uma escola. Cada turma contém vários alunos, e cada aluno é representado por um dicionário com informações sobre seu nome e idade.\n",
        "\n",
        "a) Criar as turmas: crie duas turmas, cada uma contendo uma lista de dicionários representando os alunos. Cada dicionário deve ter as chaves \"nome\" e \"idade\".\n",
        "\n",
        "b) Adicionar um novo aluno: Adicione um novo aluno em uma das turmas.\n",
        "\n",
        "c) Remover um aluno: Remova um aluno de uma das turmas.\n",
        "\n",
        "d)Exibir os alunos de uma turma."
      ],
      "metadata": {
        "id": "b2KGSlUVXzRq"
      }
    },
    {
      "cell_type": "code",
      "source": [
        "#a)\n",
        "\n",
        "turmas = {\n",
        "    \"Turma A\": [\n",
        "        {\"nome\": \"João\", \"idade\": 20, \"id\": 1},\n",
        "        {\"nome\": \"Maria\", \"idade\": 19, \"id\": 2},\n",
        "        {\"nome\": \"Pedro\", \"idade\": 21, \"id\": 3}\n",
        "    ],\n",
        "    \"Turma B\": [\n",
        "        {\"nome\": \"Betina\", \"idade\": 18, \"id\": 4},\n",
        "        {\"nome\": \"Carlos\", \"idade\": 22, \"id\": 5},\n",
        "    ]\n",
        "}\n",
        "print(turmas)"
      ],
      "metadata": {
        "colab": {
          "base_uri": "https://localhost:8080/"
        },
        "id": "nuXWbxsJb-oP",
        "outputId": "1c26fa28-5be9-4f18-d02a-d04d5df3a6e7"
      },
      "execution_count": 15,
      "outputs": [
        {
          "output_type": "stream",
          "name": "stdout",
          "text": [
            "{'Turma A': [{'nome': 'João', 'idade': 20, 'id': 1}, {'nome': 'Maria', 'idade': 19, 'id': 2}, {'nome': 'Pedro', 'idade': 21, 'id': 3}], 'Turma B': [{'nome': 'Betina', 'idade': 18, 'id': 4}, {'nome': 'Carlos', 'idade': 22, 'id': 5}]}\n"
          ]
        }
      ]
    },
    {
      "cell_type": "code",
      "source": [
        "#b)\n",
        "novoAluno = {\"nome\": \"Lucas\", \"idade\": 20, \"id\": 6}\n",
        "novoAluno2 = {\"nome\": \"Julia\", \"idade\": 19, \"id\": 7}\n",
        "\n",
        "turmas[\"Turma A\"].append(novoAluno)\n",
        "turmas[\"Turma B\"].append(novoAluno2)\n",
        "\n",
        "print(turmas)\n"
      ],
      "metadata": {
        "colab": {
          "base_uri": "https://localhost:8080/"
        },
        "id": "vnZfiXQCfyyQ",
        "outputId": "0559b44e-86ee-42af-fc7b-c3a5b7c5f564"
      },
      "execution_count": 16,
      "outputs": [
        {
          "output_type": "stream",
          "name": "stdout",
          "text": [
            "{'Turma A': [{'nome': 'João', 'idade': 20, 'id': 1}, {'nome': 'Maria', 'idade': 19, 'id': 2}, {'nome': 'Pedro', 'idade': 21, 'id': 3}, {'nome': 'Lucas', 'idade': 20, 'id': 6}], 'Turma B': [{'nome': 'Betina', 'idade': 18, 'id': 4}, {'nome': 'Carlos', 'idade': 22, 'id': 5}, {'nome': 'Julia', 'idade': 19, 'id': 7}]}\n"
          ]
        }
      ]
    },
    {
      "cell_type": "code",
      "source": [
        "#c)\n",
        "id: int = 3\n",
        "\n",
        "for turma in turmas.keys():\n",
        "    for aluno in turmas[turma]:\n",
        "        if aluno[\"id\"] == id:\n",
        "            turmas[turma].remove(aluno)\n",
        "            break\n",
        "\n",
        "print(turmas)"
      ],
      "metadata": {
        "colab": {
          "base_uri": "https://localhost:8080/"
        },
        "id": "T45xGaxCgniI",
        "outputId": "9cba8ad0-b1b8-4433-833c-b6cb6e8235d1"
      },
      "execution_count": 18,
      "outputs": [
        {
          "output_type": "stream",
          "name": "stdout",
          "text": [
            "{'Turma A': [{'nome': 'João', 'idade': 20, 'id': 1}, {'nome': 'Maria', 'idade': 19, 'id': 2}, {'nome': 'Lucas', 'idade': 20, 'id': 6}], 'Turma B': [{'nome': 'Betina', 'idade': 18, 'id': 4}, {'nome': 'Carlos', 'idade': 22, 'id': 5}, {'nome': 'Julia', 'idade': 19, 'id': 7}]}\n"
          ]
        }
      ]
    },
    {
      "cell_type": "code",
      "source": [
        "#d)\n",
        "\n",
        "for turma in turmas.keys():\n",
        "    print(f\"Alunos da turma {turma}:\")\n",
        "    for aluno in turmas[turma]:\n",
        "        print(f\"- {aluno['nome']} ({aluno['idade']} anos)\")"
      ],
      "metadata": {
        "colab": {
          "base_uri": "https://localhost:8080/"
        },
        "id": "u6drGTTxh6K5",
        "outputId": "a14d39c7-057a-48b6-ee34-ad7aad2ea03c"
      },
      "execution_count": 19,
      "outputs": [
        {
          "output_type": "stream",
          "name": "stdout",
          "text": [
            "Alunos da turma Turma A:\n",
            "- João (20 anos)\n",
            "- Maria (19 anos)\n",
            "- Lucas (20 anos)\n",
            "Alunos da turma Turma B:\n",
            "- Betina (18 anos)\n",
            "- Carlos (22 anos)\n",
            "- Julia (19 anos)\n"
          ]
        }
      ]
    },
    {
      "cell_type": "markdown",
      "source": [
        "Exercício 3: Mário. Você deve recriar a pirâmide do Mário.\n",
        "O tamanho da pirâmide será decidida pelo usuário."
      ],
      "metadata": {
        "id": "W7Cmrg-Bb-IU"
      }
    },
    {
      "cell_type": "code",
      "source": [
        "altura: int\n",
        "\n",
        "while(True):\n",
        "  altura = int(input(\"Digite a altura da pirâmide: \"))\n",
        "\n",
        "  if (altura > 0):\n",
        "    break\n",
        "\n",
        "for i in range(1, altura):\n",
        "\n",
        "  for _ in range(altura - (i)):\n",
        "    print(\" \", end = \"\")\n",
        "\n",
        "  for _ in range(i):\n",
        "    print(\"#\", end = \"\")\n",
        "\n",
        "  print()\n",
        "\n"
      ],
      "metadata": {
        "colab": {
          "base_uri": "https://localhost:8080/"
        },
        "id": "ui0vJbRicPi4",
        "outputId": "2086c23b-fc9d-40ae-fcb8-50b1e66698bc"
      },
      "execution_count": 13,
      "outputs": [
        {
          "output_type": "stream",
          "name": "stdout",
          "text": [
            "Digite a altura da pirâmide: 8\n",
            "       #\n",
            "      ##\n",
            "     ###\n",
            "    ####\n",
            "   #####\n",
            "  ######\n",
            " #######\n"
          ]
        }
      ]
    },
    {
      "cell_type": "markdown",
      "source": [
        "Outra forma de executar o Exercício 3"
      ],
      "metadata": {
        "id": "rqRj58uMeYLl"
      }
    },
    {
      "cell_type": "code",
      "source": [
        "altura: int\n",
        "\n",
        "while(True):\n",
        "  altura = int(input(\"Digite a altura da pirâmide: \"))\n",
        "\n",
        "  if (altura > 0):\n",
        "    break\n",
        "\n",
        "for i in range(1, altura):\n",
        "  print(\" \" * (altura - i) + \"#\" * i)"
      ],
      "metadata": {
        "colab": {
          "base_uri": "https://localhost:8080/"
        },
        "id": "heZ9ykVnecJq",
        "outputId": "f343f6ad-8380-406c-d219-327d7a39b6ac"
      },
      "execution_count": 14,
      "outputs": [
        {
          "output_type": "stream",
          "name": "stdout",
          "text": [
            "Digite a altura da pirâmide: 8\n",
            "       #\n",
            "      ##\n",
            "     ###\n",
            "    ####\n",
            "   #####\n",
            "  ######\n",
            " #######\n"
          ]
        }
      ]
    }
  ]
}