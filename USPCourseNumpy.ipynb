{
  "cells": [
    {
      "cell_type": "markdown",
      "metadata": {
        "id": "view-in-github",
        "colab_type": "text"
      },
      "source": [
        "<a href=\"https://colab.research.google.com/github/Leonardo-Gaspar/DataScienceUSPCourse/blob/main/USPCourseNumpy.ipynb\" target=\"_parent\"><img src=\"https://colab.research.google.com/assets/colab-badge.svg\" alt=\"Open In Colab\"/></a>"
      ]
    },
    {
      "cell_type": "code",
      "source": [
        "import numpy as np"
      ],
      "metadata": {
        "id": "QuMDiFnfV6WA"
      },
      "execution_count": 1,
      "outputs": []
    },
    {
      "cell_type": "markdown",
      "source": [
        "# ***Exercicio 1: ***"
      ],
      "metadata": {
        "id": "ZVmrUbvMWWLA"
      }
    },
    {
      "cell_type": "markdown",
      "source": [
        "**Faça uma função que receba um array como entrada, remova o primeiro e o último elemento do array e retorne um novo array contendo os elementos restantes.**"
      ],
      "metadata": {
        "id": "7azMO3ZbWgFP"
      }
    },
    {
      "cell_type": "code",
      "source": [
        "def eliminaExtremos(original):\n",
        "  return original[1:-1]\n",
        "\n",
        "#Exemplo\n",
        "original = np.array([1,2,3,4,5])\n",
        "print(eliminaExtremos(original))\n"
      ],
      "metadata": {
        "id": "0beVys2OWVuY",
        "outputId": "fbc69c06-c985-451f-96cd-94962a6ae6e0",
        "colab": {
          "base_uri": "https://localhost:8080/"
        }
      },
      "execution_count": 2,
      "outputs": [
        {
          "output_type": "stream",
          "name": "stdout",
          "text": [
            "[2 3 4]\n"
          ]
        }
      ]
    },
    {
      "cell_type": "markdown",
      "source": [
        "# ***Exercicio 2: ***"
      ],
      "metadata": {
        "id": "4zC8iMFGXDGH"
      }
    },
    {
      "cell_type": "markdown",
      "source": [
        "Crie um array com elementoss de 0 a 100 e calcule a soma de todos os valores pares."
      ],
      "metadata": {
        "id": "lMKnsfbUXGHv"
      }
    },
    {
      "cell_type": "code",
      "source": [
        "numeros = np.arange(101)\n",
        "somaPares = np.sum(numeros[numeros % 2 == 0])\n",
        "print(somaPares)"
      ],
      "metadata": {
        "id": "dWHG4jotXPXn",
        "outputId": "84a94d77-0a3e-4305-887d-2bf82a95790d",
        "colab": {
          "base_uri": "https://localhost:8080/"
        }
      },
      "execution_count": 3,
      "outputs": [
        {
          "output_type": "stream",
          "name": "stdout",
          "text": [
            "2550\n"
          ]
        }
      ]
    },
    {
      "cell_type": "markdown",
      "source": [
        "# ***Exercicio 3: ***"
      ],
      "metadata": {
        "id": "0njWJ7KhXXzO"
      }
    },
    {
      "cell_type": "markdown",
      "source": [
        "Gere um array A contendo todos os números ímpares entre 0 e 100. A partir de A, crie outro array que contenha a soma cumulativa dos elementos de A que são divisíveis por 3 e por 5 simultaneamente\n"
      ],
      "metadata": {
        "id": "4z07nZo8Xave"
      }
    },
    {
      "cell_type": "code",
      "source": [
        "impares = np.arange(1, 100, 2)\n",
        "\n",
        "multiplos3e5 = impares[(impares % 3 == 0) & (impares % 5 == 0)]\n",
        "soma = np.cumsum(multiplos3e5)\n",
        "print(soma)"
      ],
      "metadata": {
        "id": "H6JdX4vfXsXO",
        "outputId": "d9ad7497-7657-41b0-8b19-658b07c03244",
        "colab": {
          "base_uri": "https://localhost:8080/"
        }
      },
      "execution_count": 5,
      "outputs": [
        {
          "output_type": "stream",
          "name": "stdout",
          "text": [
            "[ 15  60 135]\n"
          ]
        }
      ]
    },
    {
      "cell_type": "code",
      "source": [
        "impares = np.arange(1, 100, 2)\n",
        "\n",
        "multiplos3e5 = impares[(impares % 3 == 0) & (impares % 5 == 0)]\n",
        "soma = np.sum(multiplos3e5)\n",
        "print(soma)"
      ],
      "metadata": {
        "id": "0cXiiPioYCXn",
        "outputId": "ef8f893c-2e10-49f5-ad75-93db618b63c0",
        "colab": {
          "base_uri": "https://localhost:8080/"
        }
      },
      "execution_count": 6,
      "outputs": [
        {
          "output_type": "stream",
          "name": "stdout",
          "text": [
            "135\n"
          ]
        }
      ]
    },
    {
      "cell_type": "markdown",
      "source": [
        "# ***Exercicio 4: ***"
      ],
      "metadata": {
        "id": "IJllY6GwYIM3"
      }
    },
    {
      "cell_type": "markdown",
      "source": [
        "Faça uma função que dados dois vetores (valores e pesos), calcule a média ponderada de valores com seus respectivos pesos.\n",
        "\n",
        "Observação: não é permitido utilizar a função np.average do NumPy"
      ],
      "metadata": {
        "id": "i3DmhYqkYKKG"
      }
    },
    {
      "cell_type": "code",
      "source": [
        "def mediaPonderada(valores, pesos):\n",
        "  return np.sum(valores * pesos) / np.sum(pesos)\n",
        "\n",
        "#Exemplo\n",
        "valores = np.array([1,2,5])\n",
        "pesos = np.array([3,2,1])\n",
        "print(mediaPonderada(valores, pesos))"
      ],
      "metadata": {
        "id": "YoHTFn2NY31W",
        "outputId": "f6430856-1200-4b0a-89ec-a7b5d2dd4e8c",
        "colab": {
          "base_uri": "https://localhost:8080/"
        }
      },
      "execution_count": 7,
      "outputs": [
        {
          "output_type": "stream",
          "name": "stdout",
          "text": [
            "2.0\n"
          ]
        }
      ]
    },
    {
      "cell_type": "markdown",
      "source": [
        "# ***Exercicio 5: ***"
      ],
      "metadata": {
        "id": "YEip2PUuZF5e"
      }
    },
    {
      "cell_type": "markdown",
      "source": [
        "Considere um array bidimensional no qual cada vetor de uma dimensão possua 3 pontuaçõess que um jogador recebeu em 3 provas distintass. Faça uma função que dado esse array, retorne a prova com maior soma de pontuações."
      ],
      "metadata": {
        "id": "L9XAuCCeZJbm"
      }
    },
    {
      "cell_type": "code",
      "source": [
        "def maiorSoma(pontuacoes):\n",
        "  return np.max(np.sum(pontuacoes, axis=0))\n",
        "\n",
        "#Exemplo\n",
        "pontuacoes = np.array([[1,2,3], [4,5,6], [7,8,9]])\n",
        "print(maiorSoma(pontuacoes))\n"
      ],
      "metadata": {
        "id": "u0f1GS-9ZZ-X",
        "outputId": "4edd222b-b803-45fe-dec3-24b4286e9ada",
        "colab": {
          "base_uri": "https://localhost:8080/"
        }
      },
      "execution_count": 10,
      "outputs": [
        {
          "output_type": "stream",
          "name": "stdout",
          "text": [
            "18\n"
          ]
        }
      ]
    },
    {
      "cell_type": "markdown",
      "source": [
        "# ***Exercicio 6: ***"
      ],
      "metadata": {
        "id": "jYSTvxXYZrNm"
      }
    },
    {
      "cell_type": "markdown",
      "source": [
        "Você é um professor e está organizando as notas de seus alunoss. Para tanto, você precisa realizar algumas tarefas, como:\n",
        "\n",
        "-Determinar a média das notas\n",
        "\n",
        "-Determinar a maior e a menor nota e os alunos que tiraram.\n",
        "\n",
        "-Determinar as notas dos alunos aprovados e reprovados\n",
        "\n",
        "Considere que são aprovados os alunos com notas maiores ou iguais a 5.0."
      ],
      "metadata": {
        "id": "1BMpyVdOZu4e"
      }
    },
    {
      "cell_type": "code",
      "source": [
        "def analisarNota(notas):\n",
        "  mediaNotas = np.mean(notas)\n",
        "  maiorNota = np.max(notas)\n",
        "  menorNota = np.min(notas)\n",
        "  aprovados = notas[notas >= 5]\n",
        "  reprovados = notas[notas < 5]\n",
        "\n",
        "  print(\"Média das notas: \", mediaNotas)\n",
        "  print(\"Maior nota: \", maiorNota)\n",
        "  print(\"Menor nota: \", menorNota)\n",
        "  print(\"Notas dos alunos aprovados: \", aprovados)\n",
        "  print(\"Notas dos alunos reprovados: \", reprovados)\n",
        "\n",
        "#Exemplo\n",
        "notas = np.array([1,2,3,4,5,6,7,8,9,10])\n",
        "analisarNota(notas)"
      ],
      "metadata": {
        "id": "WCzvIcBiZtyV",
        "outputId": "4f6b493b-b90a-4ed3-9261-9cd36f7f2d39",
        "colab": {
          "base_uri": "https://localhost:8080/"
        }
      },
      "execution_count": 12,
      "outputs": [
        {
          "output_type": "stream",
          "name": "stdout",
          "text": [
            "Média das notas:  5.5\n",
            "Maior nota:  10\n",
            "Menor nota:  1\n",
            "Notas dos alunos aprovados:  [ 5  6  7  8  9 10]\n",
            "Notas dos alunos reprovados:  [1 2 3 4]\n"
          ]
        }
      ]
    },
    {
      "cell_type": "markdown",
      "source": [
        "# ***Exercicio 7: ***"
      ],
      "metadata": {
        "id": "zsd4R57Za562"
      }
    },
    {
      "cell_type": "markdown",
      "source": [
        "Um quadrado mágico é todo quadrado de lado n em que os inteiros de 1 a n² aparecem sem repetição e em que as somas dos elementos das linhas, colunas e diagonais são iguais.\n",
        "\n",
        "Exemplo: o quadrado\n",
        "\n",
        "                    [2 , 9 , 4]\n",
        "                    [7 , 5 , 3]\n",
        "                    [6 , 1 , 8]\n",
        "                  \n",
        "é um quadrado mágico. Observe que as linhas, colunas e diagonais possuem soma igual a 15."
      ],
      "metadata": {
        "id": "qDQFxVShbAWN"
      }
    },
    {
      "cell_type": "code",
      "source": [
        "#Retorna True se quadrado mágico\n",
        "#Retorna False caso contrário\n",
        "\n",
        "def verificaQuadradoMagico(quadrado):\n",
        "  n = quadrado.shape[0]\n",
        "\n",
        "  #.flatten() cria uma cópia em 1 dimensão de 'quadrado'\n",
        "  quadradoUnidimensional = quadrado.flatten()\n",
        "\n",
        "  #Ordena quadradoUnidimensional em ordem crescente\n",
        "  #Verifica se quadradoUnidimensional e o vetor de 1 n² ssão iguais\n",
        "  if not np.array_equal(np.sort(quadradoUnidimensional), np.arange(1, n**2 + 1)):\n",
        "    return False\n",
        "\n",
        "  #Pega a soma da primeira linha como base\n",
        "  soma = np.sum(quadrado[0 , :])\n",
        "\n",
        "  #Verifica se todas as colunas (axis = 1) possuem a mesma soma\n",
        "  if not np.all(np.sum(quadrado, axis = 1) == soma):\n",
        "    return False\n",
        "\n",
        "  #Verifica se todas as linhas (axis = 0) possuem a mesma soma\n",
        "  if not np.all(np.sum(quadrado, axis = 0) == soma):\n",
        "    return False\n",
        "\n",
        "  #Verifica se a diagonal principal possui a mesma soma\n",
        "  if not np.sum(np.diag(quadrado)) == soma:\n",
        "    return False\n",
        "\n",
        "  #Verifica se a diagonal secundária possui a mesma soma\n",
        "  if not np.sum(np.diag(np.fliplr(quadrado))) == soma:\n",
        "    return False\n",
        "\n",
        "  return True\n",
        "\n",
        "#Exemplo\n",
        "quadradoMagico = np.array([[2,7,6], [9,5,1], [4,3,8]])\n",
        "quadradoNaoMagico = np.array([[2,7,6], [9,5,3], [4,1,8]])\n",
        "\n",
        "#Verifica quadrado magico utilizando if\n",
        "if verificaQuadradoMagico(quadradoMagico):\n",
        "  print(\"É um quadrado mágico\")\n",
        "else:\n",
        "  print(\"Não é um quadrado mágico\")\n",
        "\n",
        "if verificaQuadradoMagico(quadradoNaoMagico):\n",
        "  print(\"É um quadrado mágico\")\n",
        "else:\n",
        "  print(\"Não é um quadrado mágico\")\n",
        "\n"
      ],
      "metadata": {
        "id": "D5idlsD0boq3",
        "outputId": "c2594beb-2af2-46db-ca6d-d6b5f73cfebb",
        "colab": {
          "base_uri": "https://localhost:8080/"
        }
      },
      "execution_count": 16,
      "outputs": [
        {
          "output_type": "stream",
          "name": "stdout",
          "text": [
            "É um quadrado mágico\n",
            "Não é um quadrado mágico\n"
          ]
        }
      ]
    }
  ],
  "metadata": {
    "colab": {
      "name": "Olá, este é o Colaboratory",
      "provenance": [],
      "include_colab_link": true
    },
    "kernelspec": {
      "display_name": "Python 3",
      "name": "python3"
    }
  },
  "nbformat": 4,
  "nbformat_minor": 0
}