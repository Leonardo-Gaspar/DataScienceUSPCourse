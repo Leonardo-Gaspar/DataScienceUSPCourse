{
  "cells": [
    {
      "cell_type": "markdown",
      "metadata": {
        "id": "view-in-github",
        "colab_type": "text"
      },
      "source": [
        "<a href=\"https://colab.research.google.com/github/Leonardo-Gaspar/DataScienceUSPCourse/blob/main/USPCoursePOO.ipynb\" target=\"_parent\"><img src=\"https://colab.research.google.com/assets/colab-badge.svg\" alt=\"Open In Colab\"/></a>"
      ]
    },
    {
      "cell_type": "markdown",
      "source": [
        "1)Faça uma função que dado um vetor de inteiros que retorne o maior inteiro do vetor"
      ],
      "metadata": {
        "id": "qDMFIBn_YCzI"
      }
    },
    {
      "cell_type": "code",
      "source": [
        "def maior_valor(vetor):\n",
        "    maior = vetor[0]\n",
        "    for i in range(len(vetor)):\n",
        "        if vetor[i] > maior:\n",
        "            maior = vetor[i]\n",
        "    return maior\n",
        "\n",
        "vetor = [1, 29, 5, 7]\n",
        "print(maior_valor(vetor))"
      ],
      "metadata": {
        "id": "K1qP93b9YVgw",
        "outputId": "597e0dd1-1b77-4f64-ce68-5fe569bc82e3",
        "colab": {
          "base_uri": "https://localhost:8080/"
        }
      },
      "execution_count": null,
      "outputs": [
        {
          "output_type": "stream",
          "name": "stdout",
          "text": [
            "29\n"
          ]
        }
      ]
    },
    {
      "cell_type": "markdown",
      "source": [
        "2) Você está organizando uma lista de alunos por turma em uma escola. Cada turma contém vários alunos, e cada aluno deve conter um nome, idade e id.\n",
        "\n",
        "Exercício da aula passada, porém deve ser resolvido utilizando POO\n",
        "\n",
        "a) Crie duas turmas, cada uma contendo dois alunos\n",
        "\n",
        "b) Adicionar um novo aluno\n",
        "\n",
        "c) Remover um aluno\n",
        "\n",
        "d) Exibir os alunos de uma turma"
      ],
      "metadata": {
        "id": "zZHxLlnfYLEN"
      }
    },
    {
      "cell_type": "code",
      "source": [
        "#Criando a classe aluno\n",
        "class aluno():\n",
        "  def __init__(self, nome, idade, id):\n",
        "      self.nome = nome\n",
        "      self.idade = idade\n",
        "      self.id = id\n"
      ],
      "metadata": {
        "id": "CUl2zuyjZ5OV"
      },
      "execution_count": null,
      "outputs": []
    },
    {
      "cell_type": "code",
      "source": [
        "#Criando a classe turma\n",
        "class turma():\n",
        "  def __init__(self, nome):\n",
        "      self.nome = nome\n",
        "      self.alunos = []\n",
        "\n",
        "#Criando função para adicionar aluno\n",
        "  def adicionar_aluno(self, aluno):\n",
        "      self.alunos.append(aluno)\n",
        "\n",
        "#Criando função para remover aluno\n",
        "  def remover_aluno(self, id_aluno_removido):\n",
        "    for aluno in self.alunos:\n",
        "        if aluno.id == id_aluno_removido:\n",
        "          self.alunos.remove(id)\n",
        "\n",
        "#Criando função para exibir os alunos\n",
        "  def exibir_alunos(self):\n",
        "    if len(self.alunos) == 0:\n",
        "      print('Não há alunos na turma')\n",
        "      return None\n",
        "\n",
        "    for aluno in self.alunos:\n",
        "        print(f'Nome: {aluno.nome}, Idade: {aluno.idade}, ID: {aluno.id}')\n",
        "\n"
      ],
      "metadata": {
        "id": "V2fGZAayaXl0"
      },
      "execution_count": null,
      "outputs": []
    },
    {
      "cell_type": "code",
      "source": [
        "#a)\n",
        "turma1 = turma('turma1')\n",
        "turma2 = turma('turma2')\n",
        "\n",
        "aluno1 = aluno(nome='aluno1', idade= 20, id = 1)\n",
        "aluno2 = aluno(nome='aluno2', idade= 21, id = 2)\n",
        "\n",
        "turma1.adicionar_aluno(aluno1)\n",
        "turma2.adicionar_aluno(aluno2)\n",
        "turma1.adicionar_aluno(aluno(nome=\"aluno3\", idade=22, id=3))\n",
        "turma2.adicionar_aluno(aluno(nome=\"aluno4\", idade=23, id=4))\n"
      ],
      "metadata": {
        "id": "4E0lUOj8bbvT"
      },
      "execution_count": null,
      "outputs": []
    },
    {
      "cell_type": "code",
      "source": [
        "print(f'Alunos da turma: {turma1.nome}')\n",
        "turma1.exibir_alunos()\n",
        "\n",
        "print()\n",
        "print(f'Alunos da turma: {turma2.nome}')\n",
        "turma2.exibir_alunos()"
      ],
      "metadata": {
        "id": "vj-UXsSxdYUw",
        "outputId": "103cf466-577a-448a-96ae-91db807dd751",
        "colab": {
          "base_uri": "https://localhost:8080/"
        }
      },
      "execution_count": null,
      "outputs": [
        {
          "output_type": "stream",
          "name": "stdout",
          "text": [
            "Alunos da turma: turma1\n",
            "Nome: aluno1, Idade: 20, ID: 1\n",
            "Nome: aluno2, Idade: 21, ID: 2\n",
            "Nome: aluno1, Idade: 20, ID: 1\n",
            "\n",
            "Alunos da turma: turma2\n",
            "Nome: aluno2, Idade: 21, ID: 2\n"
          ]
        }
      ]
    },
    {
      "cell_type": "markdown",
      "source": [
        "3) Crie uma função que dado dois vetores retorne um novo vetor que é a concatenação"
      ],
      "metadata": {
        "id": "V1s1iOUfd4ST"
      }
    },
    {
      "cell_type": "code",
      "source": [
        "#Sem utilizar o copy()\n",
        "def concatenar(vetor1, vetor2):\n",
        "  novo_vetor = vetor1\n",
        "\n",
        "  for elemento in vetor2:\n",
        "    novo_vetor.append(elemento)\n",
        "\n",
        "  return novo_vetor\n",
        "\n",
        "vetor1 = [1, 2, 3]\n",
        "vetor2 = [4, 5, 6]\n",
        "\n",
        "novo_vetor = concatenar(vetor1, vetor2)\n",
        "print(novo_vetor)\n",
        "print(vetor1)"
      ],
      "metadata": {
        "id": "8FxC-u6Wd_bt",
        "outputId": "664fbf24-d3c8-4ee2-9948-f0fee5b0051e",
        "colab": {
          "base_uri": "https://localhost:8080/"
        }
      },
      "execution_count": null,
      "outputs": [
        {
          "output_type": "stream",
          "name": "stdout",
          "text": [
            "[1, 2, 3, 4, 5, 6]\n",
            "[1, 2, 3, 4, 5, 6]\n"
          ]
        }
      ]
    },
    {
      "cell_type": "code",
      "source": [
        "#utilizando o copy()\n",
        "def concatenar(vetor1, vetor2):\n",
        "  novo_vetor = vetor1.copy()\n",
        "\n",
        "  for elemento in vetor2:\n",
        "    novo_vetor.append(elemento)\n",
        "\n",
        "  return novo_vetor\n",
        "\n",
        "vetor1 = [1, 2, 3]\n",
        "vetor2 = [4, 5, 6]\n",
        "\n",
        "novo_vetor = concatenar(vetor1, vetor2)\n",
        "print(novo_vetor)\n",
        "print(vetor1)"
      ],
      "metadata": {
        "id": "_ApBjP-UeZ9c",
        "outputId": "2ce8b3d0-36e5-43af-8b3e-2fd5ea0f79b9",
        "colab": {
          "base_uri": "https://localhost:8080/"
        }
      },
      "execution_count": null,
      "outputs": [
        {
          "output_type": "stream",
          "name": "stdout",
          "text": [
            "[1, 2, 3, 4, 5, 6]\n",
            "[1, 2, 3]\n"
          ]
        }
      ]
    },
    {
      "cell_type": "markdown",
      "source": [
        "4) Crie uma função que dado dois vetores retorne um novo vetor que é o composto dos maiores elementos de cada vetor"
      ],
      "metadata": {
        "id": "9Vexvf3behL1"
      }
    },
    {
      "cell_type": "code",
      "source": [
        "#Criando uma função para retornar os maiores vetores\n",
        "def maiores(vetor1, vetor2):\n",
        "  novo_vetor = []\n",
        "\n",
        "  novo_vetor.append(maior_valor(vetor1)) #Puxando a função anterior para identificar o maior vetor\n",
        "  novo_vetor.append(maior_valor(vetor2)) #Puxando a função anterior para identificar o maior vetor\n",
        "  return novo_vetor\n",
        "\n",
        "vetor1 = [1, 2, 3]\n",
        "vetor2 = [100, 950, 2]\n",
        "\n",
        "novo_vetor = maiores(vetor1, vetor2)\n",
        "print(novo_vetor)"
      ],
      "metadata": {
        "id": "aent4R6ien9u",
        "outputId": "f892eb96-2abc-4553-a159-924ecc7e6db7",
        "colab": {
          "base_uri": "https://localhost:8080/"
        }
      },
      "execution_count": null,
      "outputs": [
        {
          "output_type": "stream",
          "name": "stdout",
          "text": [
            "[3, 950]\n"
          ]
        }
      ]
    },
    {
      "cell_type": "markdown",
      "source": [
        "5) Crie uma função que receba uma lista de palavras e retorne o número de palavras que contenham um tamanho maior que 5"
      ],
      "metadata": {
        "id": "-IxvHOevfEAB"
      }
    },
    {
      "cell_type": "code",
      "source": [
        "#Criando uma função para exibir qnt de palavras com mais de 5 letras\n",
        "def palavras_maiores_5(lista_palavras):\n",
        "  contador = 0\n",
        "\n",
        "  for palavra in lista_palavras:\n",
        "    if len(palavra) > 5:\n",
        "      contador += 1\n",
        "  return contador\n",
        "\n",
        "palavras = ['Olá', 'Paralelepipedo', 'Python', 'Java', 'DATAIMC']\n",
        "print(f'Há {palavras_maiores_5(palavras)} palavras maiores que 5')"
      ],
      "metadata": {
        "id": "MRzdnvFdfLPI",
        "outputId": "b5d6b55c-b29a-4785-b586-a71461bdd52f",
        "colab": {
          "base_uri": "https://localhost:8080/"
        }
      },
      "execution_count": null,
      "outputs": [
        {
          "output_type": "stream",
          "name": "stdout",
          "text": [
            "Há 3 palavras maiores que 5\n"
          ]
        }
      ]
    },
    {
      "cell_type": "markdown",
      "source": [
        "6) Agora crie uma função que dado texto e um número retorne o número de palavras que tenham tamanho maior que o tamanho fornecido"
      ],
      "metadata": {
        "id": "Sqd_pCj1froX"
      }
    },
    {
      "cell_type": "code",
      "source": [
        "#Criando uma função para exibir qnt de palavras com mais letras que foi passado\n",
        "def qtd_letras_user():\n",
        "    qtd_letras = int(input('Digite um número: '))\n",
        "    return qtd_letras\n",
        "\n",
        "def palavras_maiores_x(texto, qtd_letras):\n",
        "    contador = 0\n",
        "    lista_palavras = texto.split(' ')\n",
        "\n",
        "    for palavra in lista_palavras:\n",
        "        if len(palavra) > qtd_letras:\n",
        "            contador += 1\n",
        "    return contador\n",
        "\n",
        "texto = 'Olá como vocês estão hoje'\n",
        "qtd_letras = qtd_letras_user()\n",
        "palavras_maiores = palavras_maiores_x(texto, qtd_letras)\n",
        "print(f'Há {palavras_maiores} palavras maiores que {qtd_letras} letras')"
      ],
      "metadata": {
        "id": "S3xAJsBVgBNt",
        "outputId": "353437e9-3825-40b0-923a-fa2f8e99ed35",
        "colab": {
          "base_uri": "https://localhost:8080/"
        }
      },
      "execution_count": null,
      "outputs": [
        {
          "output_type": "stream",
          "name": "stdout",
          "text": [
            "Digite um número: 4\n",
            "Há 2 palavras maiores que 4 letras\n"
          ]
        }
      ]
    }
  ],
  "metadata": {
    "colab": {
      "toc_visible": true,
      "provenance": [],
      "include_colab_link": true
    },
    "kernelspec": {
      "display_name": "Python 3",
      "name": "python3"
    }
  },
  "nbformat": 4,
  "nbformat_minor": 0
}